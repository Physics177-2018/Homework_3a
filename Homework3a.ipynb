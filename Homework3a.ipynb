{
 "cells": [
  {
   "cell_type": "markdown",
   "metadata": {},
   "source": [
    "# Homework 3a: Plots in Python\n",
    "Physics 177, Spring 2018  \n",
    "**Due:** Thursday, April 19\n",
    "\n",
    "*Enter your name here*"
   ]
  },
  {
   "cell_type": "markdown",
   "metadata": {},
   "source": [
    "*Discussion:* in this homework we will learn to use `matplotlib`, one of the scipy libraries for plotting results. Visualizations are one of the most important ways that we communicate our science, and producing effective graphics will be a key skill you will develop in this class.  \n",
    "\n",
    "**References**:\n",
    "* [matplotlib.org pyplot tutorial](https://matplotlib.org/users/pyplot_tutorial.html)\n",
    "* [Scipy Lecture Notes: Matplotlib](http://www.scipy-lectures.org/intro/matplotlib/index.html)\n",
    "* [The Scipy Cookbook](http://scipy-cookbook.readthedocs.io)\n",
    "* [Data Camp: Matplotlib](https://www.datacamp.com/community/tutorials/matplotlib-tutorial-python)\n",
    "* [Roshan tutorial](https://www.youtube.com/watch?v=kHPEz1wZZWc)\n",
    "\n",
    "**Notes**: \n",
    "* [Plot.ly](https://plot.ly/python/ipython-notebook-tutorial/) is an alternative to `matplotlib` for producing professional graphics. It can do lots of really neat things. If you're an advanced (or curious) user, you may want to familiarize yourself with both `matplotlib` *and* Plot.ly. (You're welcome to use Plot.ly to produce final versions of all plots in your homework... as long as the resulting plots look nice.)\n",
    "* [Seaborn](http://seaborn.pydata.org): complementary to `matplotlib`, some tools to make things even more aesthetic.\n",
    "\n",
    "https://jakevdp.github.io/blog/2017/12/05/installing-python-packages-from-jupyter/"
   ]
  },
  {
   "cell_type": "markdown",
   "metadata": {},
   "source": [
    "## 0. Set up\n",
    "\n",
    "You get no credit for doing \"problem 0,\" but you'll need to do it to install matplotlib."
   ]
  },
  {
   "cell_type": "markdown",
   "metadata": {},
   "source": [
    "### 0.a) Install Matplotlib\n",
    "\n",
    "You will need to **install matplotlib**:\n",
    "\n",
    "* If you are using anaconda, see [these instructions](https://anaconda.org/conda-forge/matplotlib).\n",
    "* Otherwise you can use `pip install matplotlib` at the command line. (Occasionally some people will say to run `python -m pop install`. [It's the same thing](https://stackoverflow.com/questions/25749621/whats-the-difference-between-pip-install-and-python-m-pip-install).)\n",
    "\n",
    "[More information](https://matplotlib.org/faq/installing_faq.html#installation)."
   ]
  },
  {
   "cell_type": "markdown",
   "metadata": {},
   "source": [
    "### 0.b Run the magic command for inline plots\n",
    "\n",
    "From now on, you will need to include `%matplotlib inline` to your notebooks so that the resulting plots are shown inside your notebook. If you don't add this line, then the plots won't show up. (Advanced users can add this to their iPython configuration file.)\n",
    "\n",
    "Run the following cell."
   ]
  },
  {
   "cell_type": "code",
   "execution_count": null,
   "metadata": {},
   "outputs": [],
   "source": [
    "# Run this \n",
    "%matplotlib inline\n",
    "\n",
    "# https://stackoverflow.com/questions/43027980/purpose-of-matplotlib-inline/43028034"
   ]
  },
  {
   "cell_type": "markdown",
   "metadata": {},
   "source": [
    "### Discussion\n",
    "\n",
    "What the heck is this? Commands that start with `%` are called [magic commands](http://ipython.readthedocs.io/en/stable/interactive/magics.html). These are additional iPython commands that deal with the notebook environment that exist separately from the Python language . In this case, it enables matplotlib's inline mode.\n",
    "\n",
    "*Remarks*\n",
    "* This is not the only time a physicist will talk about magic, e.g. the [MAGIC telescope](http://www.ifae.es/eng/experiments/magic.html) and [magic numbrs](https://en.wikipedia.org/wiki/Magic_number_(physics)) in nuclear physics.\n",
    "* In case there's ambiguity about what is iPython versus Jupyter, see [this post on Quora](https://www.quora.com/What-is-the-difference-between-Jupyter-and-IPython-Notebook), [this post on DataCamp](https://www.datacamp.com/community/blog/ipython-jupyter), or [this more technical post on the Jupyter blog](https://blog.jupyter.org/the-big-split-9d7b88a031a7). Long story short: Jupyter was born out of iPython, but generalized include other languages in the same environment."
   ]
  },
  {
   "cell_type": "markdown",
   "metadata": {},
   "source": [
    "## 1. Run the following sample code\n",
    "\n",
    "Here's our first prototypical sample matplotlib example, courtesy of the [Scipy lectures](http://www.scipy-lectures.org/intro/matplotlib/index.html). You get credit for this problem if you successfully generate a plot at the end. If not, you should troubleshoot until you produce the plot.\n",
    "\n",
    "**Important guideline**: always leave time to troubleshoot. Expect the following scaling:\n",
    "\n",
    "$$\\frac{t_{\\text{troubleshoot}}}{t_{\\text{program}}} \\sim e^{\\text{complexity}}$$\n",
    "\n",
    "I do not know the units of [complexity](https://en.wikipedia.org/wiki/Programming_complexity)."
   ]
  },
  {
   "cell_type": "code",
   "execution_count": null,
   "metadata": {},
   "outputs": [],
   "source": [
    "import numpy as np\n",
    "import matplotlib.pyplot as plt\n",
    "\n",
    "X = np.linspace(-np.pi, np.pi, 10)\n",
    "\n",
    "C, S = np.cos(X), np.sin(X)\n",
    "\n",
    "plt.plot(X, C)\n",
    "plt.plot(X, S)\n",
    "\n",
    "plt.show()"
   ]
  },
  {
   "cell_type": "markdown",
   "metadata": {},
   "source": [
    "## 2. Understanding the code\n",
    "\n",
    "In this problem, you will answer short questions about the code above to think about what the code does and to understand what it means. Solutions include short pieces of code. \n",
    "\n",
    "Please use any appropriate references to answer these questions. You may ask other students, but you are responsible for using your own words and any erroneous ideas that you may pick up. \n",
    "\n",
    "Let's start with the beginning of the code:\n",
    "\n",
    "```python\n",
    "import numpy as np\n",
    "import matplotlib.pyplot as plt\n",
    "```\n",
    "\n",
    "We're using our friend `numpy` (from Homework 2a) and a new friend, `matplotlib.pyplot`. Our new friend has a complicated name so we've given a nickname, `plt`. We're going to see how to use `plt` to make plots."
   ]
  },
  {
   "cell_type": "markdown",
   "metadata": {},
   "source": [
    "## 2.a) Numpy linspace\n",
    "\n",
    "In problem 1, we wrote\n",
    "\n",
    "```python\n",
    "X = np.linspace(-np.pi, np.pi, 10)\n",
    "```\n",
    "\n",
    "* In the cells below, print out the value of `X` and explain what it is. (If you are confused, you can start by printing out what `np.pi` is.) What type of object is it? How many elements? What is the range of the elements, what is the spacing between them?\n",
    "\n",
    "* Copy and modify the above line so that the range of elements goes from -1 to 1 with 101 points."
   ]
  },
  {
   "cell_type": "markdown",
   "metadata": {},
   "source": [
    "TYPE IN YOUR ANSWER HERE"
   ]
  },
  {
   "cell_type": "code",
   "execution_count": null,
   "metadata": {},
   "outputs": [],
   "source": [
    "# MODIFY THIS CODE (to give numbers from -1 to 1 w/ 100 points)\n",
    "X = np.linspace(-np.pi, np.pi, 10)\n",
    "\n",
    "print(X)"
   ]
  },
  {
   "cell_type": "markdown",
   "metadata": {},
   "source": [
    "## 2.b) Numpy functions\n",
    "\n",
    "In the following line from problem 1:\n",
    "\n",
    "```python\n",
    "C, S = np.cos(X), np.sin(X)\n",
    "```\n",
    "\n",
    "We defined two arrays, `C` and `S`. These are the cosine and sine of `X`. This is remarkable because `X` is not a number, it's a collection of numbers. The result is that we have a list of $x$-values and a list of $y$-values to plot.\n",
    "\n",
    "* Re-define (overwrite) `C` to be `np.cos(X)` for the revised definition of `X` above.\n",
    "* Define a numpy array `Y` that is the $\\mathcal O(x^2)$ Taylor expansion of $f(x) = \\cos(x)$. \n",
    "* Print `Y`."
   ]
  },
  {
   "cell_type": "code",
   "execution_count": null,
   "metadata": {},
   "outputs": [],
   "source": []
  },
  {
   "cell_type": "markdown",
   "metadata": {},
   "source": [
    "## 2.c) Plotting with `matplotlib.pyplot` (I mean, `plt`)\n",
    "\n",
    "Now we get to the part where we do something:\n",
    "\n",
    "```python\n",
    "plt.plot(X, C)\n",
    "plt.plot(X, S)\n",
    "\n",
    "plt.show()\n",
    "```\n",
    "\n",
    "Imagine that our friend `plt` is a street artist who is selling caricature portraits; the type that you'd see in carnivals or at Disneyland. The first two lines above say the following:\n",
    "\n",
    "\"*Hey `plt`, please sketch a picture where the $x$-axis of each point is in the array `X` and the $y$-axis of each point is in the array `C`.*\"\n",
    "\n",
    "Then we realize that in addition to this, we also want to see a similar picture with `X` and `S` respectively---except we want this overlaid on the previous picture. \n",
    "\n",
    "At this point, `plt` is drawing on his easel, but we don't see the final product yet. It's only when we ask `plt` to show us the plot that `plt` will output for us to see.\n",
    "\n",
    "In the cell below and with the values of `X`, `Y`, and `C` in this problem: plot $\\cos(x)$ and its second order Taylor approximation in the range $x \\in [-1,1]$."
   ]
  },
  {
   "cell_type": "code",
   "execution_count": null,
   "metadata": {},
   "outputs": [],
   "source": []
  }
 ],
 "metadata": {
  "kernelspec": {
   "display_name": "Python 3",
   "language": "python",
   "name": "python3"
  },
  "language_info": {
   "codemirror_mode": {
    "name": "ipython",
    "version": 3
   },
   "file_extension": ".py",
   "mimetype": "text/x-python",
   "name": "python",
   "nbconvert_exporter": "python",
   "pygments_lexer": "ipython3",
   "version": "3.6.3"
  }
 },
 "nbformat": 4,
 "nbformat_minor": 2
}
